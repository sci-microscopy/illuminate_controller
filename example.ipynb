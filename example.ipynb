{
 "cells": [
  {
   "cell_type": "markdown",
   "metadata": {},
   "source": [
    "# Illuminate LED Controller Example\n",
    "Zack Phillips, zkphil@berkeley.edu"
   ]
  },
  {
   "cell_type": "code",
   "execution_count": 2,
   "metadata": {
    "ExecuteTime": {
     "end_time": "2019-03-21T03:07:52.232325Z",
     "start_time": "2019-03-21T03:07:51.982992Z"
    }
   },
   "outputs": [
    {
     "name": "stdout",
     "output_type": "stream",
     "text": [
      "The autoreload extension is already loaded. To reload it, use:\n",
      "  %reload_ext autoreload\n"
     ]
    }
   ],
   "source": [
    "%matplotlib notebook\n",
    "%load_ext autoreload\n",
    "%autoreload 2\n",
    "\n",
    "import serial\n",
    "import illuminate\n",
    "import time\n",
    "import numpy as np\n",
    "import json\n",
    "import os\n",
    "import scipy.io as sio\n",
    "\n",
    "import matplotlib.pyplot as plt"
   ]
  },
  {
   "cell_type": "markdown",
   "metadata": {},
   "source": [
    "## List Available Serial Ports"
   ]
  },
  {
   "cell_type": "code",
   "execution_count": null,
   "metadata": {
    "ExecuteTime": {
     "end_time": "2019-03-21T02:48:32.832360Z",
     "start_time": "2019-03-21T02:48:32.803477Z"
    }
   },
   "outputs": [],
   "source": [
    "import serial.tools.list_ports\n",
    "comlist = serial.tools.list_ports.comports()\n",
    "connected = []\n",
    "for element in comlist:\n",
    "    connected.append(element.device)\n",
    "print(\"Connected COM ports: \" + str(connected))"
   ]
  },
  {
   "cell_type": "markdown",
   "metadata": {},
   "source": [
    "## Create LED Array Object"
   ]
  },
  {
   "cell_type": "code",
   "execution_count": 3,
   "metadata": {
    "ExecuteTime": {
     "end_time": "2019-03-21T03:07:54.960071Z",
     "start_time": "2019-03-21T03:07:54.821179Z"
    }
   },
   "outputs": [],
   "source": [
    "# Pick your serial port and copy that string here\n",
    "serial_port = '/dev/cu.usbmodem26831301'\n",
    "\n",
    "# Create LED array controller object\n",
    "led_array = illuminate.LedArrayController(serial_port)"
   ]
  },
  {
   "cell_type": "code",
   "execution_count": 7,
   "metadata": {
    "ExecuteTime": {
     "end_time": "2019-03-21T03:08:08.518351Z",
     "start_time": "2019-03-21T03:08:08.201423Z"
    }
   },
   "outputs": [
    {
     "data": {
      "text/plain": [
       "60.0"
      ]
     },
     "execution_count": 7,
     "metadata": {},
     "output_type": "execute_result"
    }
   ],
   "source": [
    "led_array.array_distance = 60\n",
    "led_array.array_distance"
   ]
  },
  {
   "cell_type": "markdown",
   "metadata": {},
   "source": [
    "## Display 2D LED Positions (NA coordinates)"
   ]
  },
  {
   "cell_type": "code",
   "execution_count": null,
   "metadata": {
    "ExecuteTime": {
     "end_time": "2019-03-21T02:51:10.175498Z",
     "start_time": "2019-03-21T02:51:09.392324Z"
    }
   },
   "outputs": [],
   "source": [
    "# Get positions from device\n",
    "source_list_na = np.asarray(led_array.led_positions_na)\n",
    "\n",
    "# Show LED positions\n",
    "plt.figure(figsize=(6,6))\n",
    "plt.scatter(source_list_na[:, 0], source_list_na[:, 1])\n",
    "plt.xlabel('LED NA x')\n",
    "plt.ylabel('LED NA y')\n",
    "plt.title('LED Positions')"
   ]
  },
  {
   "cell_type": "markdown",
   "metadata": {},
   "source": [
    "## Display LED Numbers"
   ]
  },
  {
   "cell_type": "code",
   "execution_count": null,
   "metadata": {
    "ExecuteTime": {
     "end_time": "2019-03-21T02:51:16.309999Z",
     "start_time": "2019-03-21T02:51:11.475440Z"
    }
   },
   "outputs": [],
   "source": [
    "# Get positions from device\n",
    "source_list_na = np.asarray(led_array.led_positions_na)\n",
    "\n",
    "with plt.style.context('default'):\n",
    "    # Show LED positions\n",
    "    plt.figure(figsize=(12,12))\n",
    "\n",
    "    for index, na in enumerate(source_list_na):\n",
    "        plt.text(na[0], na[1], str(index))\n",
    "\n",
    "    plt.xlim((-1.1, 1.1))\n",
    "    plt.ylim((-1.1, 1.1))\n",
    "    plt.xlabel('$NA_x$')\n",
    "    plt.ylabel('$NA_y$')\n",
    "    plt.title('LED Positions : %s' % led_array.device_name)\n",
    "    plt.savefig(os.path.join(output_dir, 'led_positions_na_%s.png' % led_array.device_name), transparent=True, dpi=300)"
   ]
  },
  {
   "cell_type": "markdown",
   "metadata": {},
   "source": [
    "## Display 3D LED Positions"
   ]
  },
  {
   "cell_type": "code",
   "execution_count": null,
   "metadata": {
    "ExecuteTime": {
     "end_time": "2019-03-21T02:42:38.051857Z",
     "start_time": "2019-03-21T02:42:37.465573Z"
    }
   },
   "outputs": [],
   "source": [
    "# Get positions from device\n",
    "source_list_cart = np.asarray(led_array.led_positions_cart)\n",
    "\n",
    "# Show LED positions\n",
    "from mpl_toolkits.mplot3d import Axes3D\n",
    "fig = plt.figure(figsize=(8,8))\n",
    "ax = fig.add_subplot(111, projection='3d')\n",
    "ax.scatter(source_list_cart[:, 0], source_list_cart[:, 1],source_list_cart[:, 2])\n",
    "plt.xlabel('LED NA x')\n",
    "plt.ylabel('LED NA y')\n",
    "plt.title('LED Positions')\n",
    "ax.set_xlim((-50, 50))\n",
    "ax.set_ylim((-50, 50))\n",
    "ax.set_zlim((0, 100))"
   ]
  },
  {
   "cell_type": "markdown",
   "metadata": {},
   "source": [
    "# Save LED Positions to .mat file and .json file"
   ]
  },
  {
   "cell_type": "code",
   "execution_count": null,
   "metadata": {
    "ExecuteTime": {
     "end_time": "2019-03-21T02:57:54.835221Z",
     "start_time": "2019-03-21T02:57:54.270125Z"
    }
   },
   "outputs": [],
   "source": [
    "# Get positions from device\n",
    "led_positions_dict = {'led_positions_cartesian': led_array.led_positions_cart}\n",
    "\n",
    "# Generate filename\n",
    "filename = os.path.join(output_dir, 'led_positions_cartesian_%s' % led_array.device_name.lower().replace('-', '_'))\n",
    "\n",
    "# Save to json file\n",
    "with open(filename + '.json', 'w') as outfile:  \n",
    "    json.dump(led_positions_dict, outfile)\n",
    "    \n",
    "# Save to .mat file\n",
    "sio.savemat(filename + '.mat', led_positions_dict)"
   ]
  },
  {
   "cell_type": "markdown",
   "metadata": {},
   "source": [
    "## Display brightfield pattern\n",
    "This pattern respects the array distance ('sad' command) and numerical \n",
    "aperature ('na' command)."
   ]
  },
  {
   "cell_type": "code",
   "execution_count": null,
   "metadata": {
    "ExecuteTime": {
     "end_time": "2019-03-21T02:44:09.943995Z",
     "start_time": "2019-03-21T02:44:09.820257Z"
    }
   },
   "outputs": [],
   "source": [
    "led_array.command('bf')"
   ]
  },
  {
   "cell_type": "markdown",
   "metadata": {},
   "source": [
    "## Clear the array"
   ]
  },
  {
   "cell_type": "code",
   "execution_count": null,
   "metadata": {
    "ExecuteTime": {
     "end_time": "2019-03-21T02:44:10.677938Z",
     "start_time": "2019-03-21T02:44:10.630151Z"
    }
   },
   "outputs": [],
   "source": [
    "led_array.command('x')"
   ]
  },
  {
   "cell_type": "markdown",
   "metadata": {},
   "source": [
    "## Display annular pattern\n",
    "This pattern respects the array distance ('sad' command) and numerical \n",
    "aperature ('na' command)."
   ]
  },
  {
   "cell_type": "code",
   "execution_count": null,
   "metadata": {
    "ExecuteTime": {
     "end_time": "2019-03-21T02:44:11.695096Z",
     "start_time": "2019-03-21T02:44:11.573838Z"
    }
   },
   "outputs": [],
   "source": [
    "led_array.command('an')"
   ]
  },
  {
   "cell_type": "markdown",
   "metadata": {},
   "source": [
    "## Display dpc pattern\n",
    "This pattern respects the array distance ('sad' command) and numerical \n",
    "aperature ('na' command). Also see the \"rdpc\" command"
   ]
  },
  {
   "cell_type": "code",
   "execution_count": null,
   "metadata": {
    "ExecuteTime": {
     "end_time": "2019-03-21T02:44:18.164827Z",
     "start_time": "2019-03-21T02:44:13.828559Z"
    }
   },
   "outputs": [],
   "source": [
    "led_array.command('dpc.t')\n",
    "time.sleep(1)\n",
    "led_array.command('dpc.b')\n",
    "time.sleep(1)\n",
    "led_array.command('dpc.l')\n",
    "time.sleep(1)\n",
    "led_array.command('dpc.r')\n",
    "time.sleep(1)"
   ]
  },
  {
   "cell_type": "markdown",
   "metadata": {},
   "source": [
    "## Change Colors using hard-coded values"
   ]
  },
  {
   "cell_type": "code",
   "execution_count": null,
   "metadata": {
    "ExecuteTime": {
     "end_time": "2019-03-21T02:44:27.142560Z",
     "start_time": "2019-03-21T02:44:22.255742Z"
    }
   },
   "outputs": [],
   "source": [
    "led_array.command('sc.red');\n",
    "time.sleep(0.1)\n",
    "\n",
    "led_array.command('bf');\n",
    "time.sleep(1)\n",
    "\n",
    "led_array.command('sc.green');\n",
    "time.sleep(0.1)\n",
    "led_array.command('bf');\n",
    "time.sleep(1)\n",
    "\n",
    "led_array.command('sc.blue');\n",
    "time.sleep(0.1)\n",
    "led_array.command('bf');\n",
    "time.sleep(1)\n",
    "\n",
    "led_array.command('sc.white');\n",
    "time.sleep(0.1)\n",
    "led_array.command('bf');\n",
    "time.sleep(1)\n",
    "\n",
    "led_array.command('x')"
   ]
  },
  {
   "cell_type": "markdown",
   "metadata": {},
   "source": [
    "## Set brightness"
   ]
  },
  {
   "cell_type": "code",
   "execution_count": null,
   "metadata": {
    "ExecuteTime": {
     "end_time": "2018-12-04T00:18:30.822531Z",
     "start_time": "2018-12-04T00:18:27.522132Z"
    }
   },
   "outputs": [],
   "source": [
    "led_array.command('sc.green');\n",
    "time.sleep(0.1)\n",
    "led_array.command('l.0');\n",
    "time.sleep(0.5)\n",
    "\n",
    "led_array.command('sb.10');\n",
    "time.sleep(0.1)\n",
    "led_array.command('l.0');\n",
    "time.sleep(0.5)\n",
    "\n",
    "led_array.command('sb.64');\n",
    "time.sleep(0.1)\n",
    "led_array.command('l.0');\n",
    "time.sleep(0.5)\n",
    "\n",
    "led_array.command('sb.128');\n",
    "time.sleep(0.1)\n",
    "led_array.command('l.0');\n",
    "time.sleep(0.5)\n",
    "\n",
    "led_array.command('sb.255');\n",
    "time.sleep(0.1)\n",
    "led_array.command('l.0');\n",
    "time.sleep(0.5)"
   ]
  },
  {
   "cell_type": "markdown",
   "metadata": {},
   "source": [
    "## Draw individual LEDs\n",
    "The syntax to draw LEDs is l.[led#].[led#].[led#].[led#].[led#].\n",
    "\n",
    "The number of LEDs does not matter. Note that LED numbers start from zero and move outward from the center."
   ]
  },
  {
   "cell_type": "code",
   "execution_count": null,
   "metadata": {
    "ExecuteTime": {
     "end_time": "2018-12-04T00:19:01.444420Z",
     "start_time": "2018-12-04T00:18:56.188927Z"
    }
   },
   "outputs": [],
   "source": [
    "led_array.command('l.0');\n",
    "time.sleep(1)\n",
    "led_array.command('l.1');\n",
    "time.sleep(1)\n",
    "led_array.command('l.2');\n",
    "time.sleep(1)\n",
    "led_array.command('l.0.1.2');\n",
    "time.sleep(1)\n",
    "led_array.command('l.51.101.0.20.50.20');\n",
    "time.sleep(1)"
   ]
  },
  {
   "cell_type": "markdown",
   "metadata": {},
   "source": [
    "## Draw a color DPC pattern\n",
    "https://journals.plos.org/plosone/article?id=10.1371/journal.pone.0171228"
   ]
  },
  {
   "cell_type": "code",
   "execution_count": null,
   "metadata": {
    "ExecuteTime": {
     "end_time": "2018-12-04T00:19:13.686040Z",
     "start_time": "2018-12-04T00:19:13.613253Z"
    }
   },
   "outputs": [],
   "source": [
    "led_array.command('cdpc')"
   ]
  },
  {
   "cell_type": "markdown",
   "metadata": {
    "ExecuteTime": {
     "end_time": "2018-12-04T00:19:16.144698Z",
     "start_time": "2018-12-04T00:19:16.129149Z"
    }
   },
   "source": [
    "## Set numerical aperture (NA)"
   ]
  },
  {
   "cell_type": "code",
   "execution_count": null,
   "metadata": {
    "ExecuteTime": {
     "end_time": "2018-12-04T00:19:22.983587Z",
     "start_time": "2018-12-04T00:19:19.438430Z"
    }
   },
   "outputs": [],
   "source": [
    "# Turn down brightness to limit current draw\n",
    "led_array.command('sb.32');\n",
    "time.sleep(0.1)\n",
    "\n",
    "# NA = 0.1\n",
    "led_array.command('na.10');\n",
    "time.sleep(0.1)\n",
    "led_array.command('bf');\n",
    "time.sleep(0.5)\n",
    "\n",
    "# NA = 0.25\n",
    "led_array.command('na.25');\n",
    "time.sleep(0.1)\n",
    "led_array.command('bf');\n",
    "time.sleep(0.5)\n",
    "\n",
    "# NA = 0.50\n",
    "led_array.command('na.50');\n",
    "time.sleep(0.1)\n",
    "led_array.command('bf');\n",
    "time.sleep(0.5)\n",
    "\n",
    "# NA = 0.65\n",
    "led_array.command('na.65');\n",
    "time.sleep(0.1)\n",
    "led_array.command('bf');\n",
    "time.sleep(0.5)\n",
    "\n",
    "# NA = 0.80\n",
    "led_array.command('na.80');\n",
    "time.sleep(0.1)\n",
    "led_array.command('bf');\n",
    "time.sleep(0.5)"
   ]
  },
  {
   "cell_type": "markdown",
   "metadata": {},
   "source": [
    "## Set LED Array distance\n",
    "The led array distance is measured from the top edge of the center board\n",
    "downward to the sample plane."
   ]
  },
  {
   "cell_type": "code",
   "execution_count": null,
   "metadata": {
    "ExecuteTime": {
     "end_time": "2018-12-04T00:19:33.371335Z",
     "start_time": "2018-12-04T00:19:27.701211Z"
    }
   },
   "outputs": [],
   "source": [
    "# Turn down brightness to limit current draw\n",
    "led_array.command('sb.32');\n",
    "time.sleep(0.1)\n",
    "led_array.command('na.40');\n",
    "time.sleep(0.1)\n",
    "\n",
    "# dist = 60mm\n",
    "led_array.command('sad.60');\n",
    "time.sleep(0.5)\n",
    "led_array.command('bf');\n",
    "time.sleep(0.5)\n",
    "\n",
    "# dist = 50mm\n",
    "led_array.command('sad.50');\n",
    "time.sleep(0.5)\n",
    "led_array.command('bf');\n",
    "time.sleep(0.5)\n",
    "\n",
    "# dist = 40mm\n",
    "led_array.command('sad.40');\n",
    "time.sleep(0.5)\n",
    "led_array.command('bf');\n",
    "time.sleep(0.5)\n",
    "\n",
    "# dist = 30mm\n",
    "led_array.command('sad.30');\n",
    "time.sleep(0.5)\n",
    "led_array.command('bf');\n",
    "time.sleep(0.5)\n",
    "\n",
    "# Reset to 50mm\n",
    "led_array.command('sad.50');\n",
    "time.sleep(0.5)"
   ]
  },
  {
   "cell_type": "markdown",
   "metadata": {},
   "source": [
    "## Run a DPC Sequence\n",
    "DPC sequences are hard-coded for speed and support hardware triggering\n",
    "the command format is:\n",
    "rdpc.[Delay between each pattern in ms].[Number of acquisitions].[trigger mode for index 0].[trigger mode for index 1].[trigger mode for index 2]\n",
    "\n",
    "The trigger modes are defined as follows:\n",
    "- mode > 0: Trigger (or wait for a trigger every \"mode\" frames\n",
    "- mode == 0: No triggering\n",
    "- mode == -1: Trigger at the start of each acquisition\n",
    "- mode == -2: Trigger only once at the begenning of the command\n",
    "\n",
    "Note that this command can run multiple \"Acquisitions\" which means it\n",
    "will run through the full DPC sequence more than once. This is set using\n",
    "the second command.\n",
    "\n",
    "Also note that setting the delay (first parameter) to less than ~40ms\n",
    "will result in the array doing nothing. You will see an error if you\n",
    "watch the terminal. The exact lower limit will depend on the specific\n",
    "hardware of your array, as this limit is checked based on feedback from\n",
    "the hardware (not a hard-coded limit).\n"
   ]
  },
  {
   "cell_type": "code",
   "execution_count": null,
   "metadata": {},
   "outputs": [],
   "source": [
    "# 2x DPC patterns, updating every 500ms, no triggering\n",
    "led_array.command('x');\n",
    "time.sleep(0.5)\n",
    "led_array.command('rdpc.500.2');\n",
    "time.sleep(0.5)\n",
    "\n",
    "# 2x DPC patterns, updating every 500ms, with trigger outputs only (every\n",
    "# frame\n",
    "led_array.command('x');\n",
    "time.sleep(0.5)\n",
    "led_array.command('rdpc.500.2.1.0.0');\n",
    "time.sleep(0.5)\n",
    "\n",
    "# 2x DPC patterns, updating every 500ms, with trigger outputs and inputs \n",
    "# (every frame)\n",
    "led_array.command('x');\n",
    "time.sleep(0.5)\n",
    "led_array.command('rdpc.500.2.1.0.1');\n",
    "time.sleep(0.5)\n",
    "\n",
    "# The above command may fail if your camera is not configured correcly.\n",
    "# Check that the trigger ports and camera software are sane if you\n",
    "# experience trouble."
   ]
  },
  {
   "cell_type": "markdown",
   "metadata": {
    "ExecuteTime": {
     "end_time": "2018-12-04T00:08:06.422100Z",
     "start_time": "2018-12-04T00:08:06.357362Z"
    }
   },
   "source": [
    "## Run a FPM Sequence\n",
    "FPM sequences are hard-coded for speed and support hardware triggering\n",
    "the command format is:\n",
    "rdpc.[Delay between each pattern in ms].[Number of acquisitions].[Maximum NA]. [trigger mode for index 0].[trigger mode for index 1].[trigger mode for index 2]\n",
    "\n",
    "The trigger modes are defined as follows:\n",
    "- mode > 0: Trigger (or wait for a trigger every \"mode\" frames\n",
    "- mode == 0: No triggering\n",
    "- mode == -1: Trigger at the start of each acquisition\n",
    "- mode == -2: Trigger only once at the begenning of the command\n",
    "\n",
    "Note that this command can run multiple \"Acquisitions\" which means it\n",
    "will run through the full DPC sequence more than once. This is set using\n",
    "the second command.\n",
    "\n",
    "The Maximum NA parameter determines the max NA used for this acquisition.\n",
    "Note that a NA of 0.25 would result in setting this parameter to \"25\"\n",
    "\n",
    "Also note that setting the delay (first parameter) to less than ~40ms\n",
    "will result in the array doing nothing. You will see an error if you\n",
    "watch the terminal. The exact lower limit will depend on the specific\n",
    "hardware of your array, as this limit is checked based on feedback from\n",
    "the hardware (not a hard-coded limit)."
   ]
  },
  {
   "cell_type": "code",
   "execution_count": null,
   "metadata": {},
   "outputs": [],
   "source": [
    "# 1x FPM patterns, updating every 50ms, 0.50 max NA, no triggering\n",
    "led_array.command('x');\n",
    "time.sleep(0.5)\n",
    "led_array.command('rfpm.50.1.50');\n",
    "time.sleep(0.5)\n",
    "\n",
    "# 2x FPM patterns, updating every 50ms, 0.25 max NA, no triggering\n",
    "led_array.command('x');\n",
    "time.sleep(0.5)\n",
    "led_array.command('rfpm.50.2.25');\n",
    "time.sleep(0.5)\n",
    "\n",
    "# 2x DPC patterns, updating every 50ms, with trigger outputs only (every\n",
    "# frame), all LEDs (NA = 1.0 => 100)\n",
    "led_array.command('x');\n",
    "time.sleep(0.5)\n",
    "led_array.command('rfpm.500.2.100.1.0.0');\n",
    "time.sleep(0.5)\n",
    "\n",
    "# 2x DPC patterns, updating every 500ms, with trigger outputs and inputs \n",
    "# (every frame)\n",
    "led_array.command('x');\n",
    "time.sleep(0.5)\n",
    "led_array.command('rfpm.500.2.100.1.0.1');\n",
    "time.sleep(0.5)\n",
    "\n",
    "# The above command may fail if your camera is not configured correcly.\n",
    "# Check that the trigger ports and camera software are sane if you\n",
    "# experience trouble."
   ]
  }
 ],
 "metadata": {
  "kernelspec": {
   "display_name": "Python 3",
   "language": "python",
   "name": "python3"
  },
  "language_info": {
   "codemirror_mode": {
    "name": "ipython",
    "version": 3
   },
   "file_extension": ".py",
   "mimetype": "text/x-python",
   "name": "python",
   "nbconvert_exporter": "python",
   "pygments_lexer": "ipython3",
   "version": "3.7.1"
  },
  "latex_envs": {
   "LaTeX_envs_menu_present": true,
   "autocomplete": true,
   "bibliofile": "biblio.bib",
   "cite_by": "apalike",
   "current_citInitial": 1,
   "eqLabelWithNumbers": true,
   "eqNumInitial": 1,
   "hotkeys": {
    "equation": "Ctrl-E",
    "itemize": "Ctrl-I"
   },
   "labels_anchors": false,
   "latex_user_defs": false,
   "report_style_numbering": false,
   "user_envs_cfg": false
  },
  "varInspector": {
   "cols": {
    "lenName": 16,
    "lenType": 16,
    "lenVar": 40
   },
   "kernels_config": {
    "python": {
     "delete_cmd_postfix": "",
     "delete_cmd_prefix": "del ",
     "library": "var_list.py",
     "varRefreshCmd": "print(var_dic_list())"
    },
    "r": {
     "delete_cmd_postfix": ") ",
     "delete_cmd_prefix": "rm(",
     "library": "var_list.r",
     "varRefreshCmd": "cat(var_dic_list()) "
    }
   },
   "types_to_exclude": [
    "module",
    "function",
    "builtin_function_or_method",
    "instance",
    "_Feature"
   ],
   "window_display": true
  }
 },
 "nbformat": 4,
 "nbformat_minor": 2
}
